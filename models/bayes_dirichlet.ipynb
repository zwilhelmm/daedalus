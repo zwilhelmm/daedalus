{
 "cells": [
  {
   "cell_type": "markdown",
   "metadata": {},
   "source": [
    "# Infinite Mixture Models with Non-Parametric Bayes and the Dirichlet Process\n",
    "\n",
    "Imagine you're a budding chef. You start taking a set of foods and ask 10 friends how much of each they ate yesterday. Your goal is to find natural groups of foodies, so that you can better cater to each cluster's tastes. Some will like wings and beer, others will like soba and sushi, some will like tofu only, and so on.\n",
    "\n",
    "How can you use the data you've gathered to discover different kinds of groups?"
   ]
  },
  {
   "cell_type": "markdown",
   "metadata": {},
   "source": [
    "![Three possible clusterings of a synthetic data set.](http://i.imgur.com/sxBfR1R.png)"
   ]
  },
  {
   "cell_type": "markdown",
   "metadata": {},
   "source": [
    "One way is to use a standard clustering algorithm like k-means or Gaussian mixture modeling, but the problem with these is that both assume a fixed number of clusters, which they need to be told to find.\n",
    "\n",
    "There are a couple methods for selecting the number of clusters to learn (e.g. gap and prediction strength statistics), but the problem is a more fundamental one: most real-world data simply does not have a fixed number of clusters."
   ]
  },
  {
   "cell_type": "markdown",
   "metadata": {},
   "source": [
    "Suppose we've asked 10 of our friends what they are in the past day, and we want to find groups of eating preferences. There's really an infinite number of foodie types (carnivore, vegan, snacker, Italian-food-only, fast-food-only, and so on), but with only 10 friends, we simply don't ave enough data to detect them all. Indeed, we'd be limited to only 10 clusters!\n",
    "\n",
    "So whereas k-means starts with the incorrect assumption that there's a fixed, finite number of clusters that our points come from, no matter if we feed it more data, what we'd really like is a mehod positing an infinite number of hidden clusters that naturally arise as we ask more friends about their food habits.\n",
    "\n",
    "For example, with only 2 data points, we might not be able to tell the difference between vegans and vegetarians, but with 200 data points, we probably could.\n",
    "\n",
    "Luckily for us, this is precisely the purview of nonparametric Bayes, which allows some parameters to change with the data."
   ]
  },
  {
   "cell_type": "markdown",
   "metadata": {},
   "source": [
    "## A Generative Story\n",
    "\n",
    "Let's describe a generative model for finding clusters in any set of data. We assume an infinite set of latent groups, where each group is described by some set of parameters. For example, each group could be a Gaussian with a specified mean $\\mu_{i}$ and standard deviation $\\sigma_{i}$, and these group parameters themselves are assumed to come from some base distribution $G_{0}$. Data is then generated in the following manner:\n",
    "\n",
    "* Select a cluster.\n",
    "* Sample from that cluster to generate a new point.\n",
    "\n",
    "(Note the resemblance to the finite fixture model.)"
   ]
  },
  {
   "cell_type": "markdown",
   "metadata": {},
   "source": [
    "For example, suppose we ask 10 friends how many calories of pizza, salad, and rice they ate yesterday. Our groups could be:\n",
    "\n",
    "* A Gaussian centered at (pizza = 5000, salad = 100, rice = 500)\n",
    "* A Gaussian centered at (pizza = 100, salad = 3000, rice = 1000)\n",
    "* A Gaussian centered at (pizza = 100, salad = 100, rice = 10000)\n",
    "* ...\n",
    "\n",
    "When deciding what to eat when she woke up yesterday, Alice could have easily been in the mood for pizza and her food consumption yesterday would have been a sample from the pizza Gaussian. Similarly, Bob could have sampled from the rice Gaussian for his day's meals, and so on.\n",
    "\n",
    "The big question, then, is: how do we assign each friend to a group?"
   ]
  },
  {
   "cell_type": "markdown",
   "metadata": {},
   "source": [
    "## Assigning Groups"
   ]
  },
  {
   "cell_type": "markdown",
   "metadata": {},
   "source": [
    "### Chinese Restaurant Process\n",
    "\n",
    "Imagine a restaurant where all your friends went to eat yesterday:\n",
    "\n",
    "* Initially the restaurant is empty.\n",
    "* The first person to enter sits down at a table. They then order good for the table, and everyone else who joins the table will then be limited to eating from the food that they ordered.\n",
    "* The second person to enter sits down at a table. Which table do they sit at? With probability $\\dfrac{\\alpha}{(1 + \\alpha)}$, they sit down at a new table and orders food for the table, with probability $\\dfrac{1}{(1 + \\alpha)}$ that they sit down with the first person and eats from the food they've already ordered.\n",
    "* ...\n",
    "* The $(n + 1$th person sits down at a new table with probability $\\dfrac{\\alpha}{(n + \\alpha)}$ and at table $k$ with probability $\\dfrac{n_{k}}{n + \\alpha}$, where $n_{k}$ is the number of people currently sitting at table $k$."
   ]
  },
  {
   "cell_type": "markdown",
   "metadata": {},
   "source": [
    "Note:\n",
    "\n",
    "* The more people there are at a table, the more likely it is that people will join it.\n",
    "* There is always a small probability that someone sits at an entirely new table.\n",
    "* The probability of a new table depends on $\\alpha$, which is inversely proportional to the clustering of our guests.\n",
    "\n",
    "Also note the resemblance between table selection probabilities and a Dirichlet distribution."
   ]
  },
  {
   "cell_type": "code",
   "execution_count": 3,
   "metadata": {},
   "outputs": [],
   "source": [
    "from random import random, seed"
   ]
  },
  {
   "cell_type": "code",
   "execution_count": 7,
   "metadata": {},
   "outputs": [],
   "source": [
    "def ChineseRestaurantProcess(num_of_customers, alpha):\n",
    "    if num_of_customers == 0:\n",
    "        return []\n",
    "    \n",
    "    table_assignments = [1] # First customer sits at table 1.\n",
    "    next_open_table = 2 # Index of next empty table.\n",
    "    \n",
    "    for i in range(1, num_of_customers - 1):\n",
    "        if random() < (alpha / (alpha / i)):\n",
    "            # Customer sits at a new table.\n",
    "            table_assignments = next_open_table\n",
    "            next_open_table += 1\n",
    "        else:\n",
    "            # Customer sits at an existing table.\n",
    "            which_table = table_assignments[random() * table_assignments.size]\n",
    "            table_assignments = which_table\n",
    "            \n",
    "    return table_assignments"
   ]
  },
  {
   "cell_type": "code",
   "execution_count": 8,
   "metadata": {},
   "outputs": [
    {
     "data": {
      "text/plain": [
       "9"
      ]
     },
     "execution_count": 8,
     "metadata": {},
     "output_type": "execute_result"
    }
   ],
   "source": [
    "ChineseRestaurantProcess(num_of_customers = 10, alpha = 1)"
   ]
  }
 ],
 "metadata": {
  "kernelspec": {
   "display_name": "Python 3",
   "language": "python",
   "name": "python3"
  },
  "language_info": {
   "codemirror_mode": {
    "name": "ipython",
    "version": 3
   },
   "file_extension": ".py",
   "mimetype": "text/x-python",
   "name": "python",
   "nbconvert_exporter": "python",
   "pygments_lexer": "ipython3",
   "version": "3.7.9"
  }
 },
 "nbformat": 4,
 "nbformat_minor": 4
}
