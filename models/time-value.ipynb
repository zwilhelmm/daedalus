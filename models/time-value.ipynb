{
 "cells": [
  {
   "cell_type": "markdown",
   "metadata": {},
   "source": [
    "# The Time Value of Money"
   ]
  },
  {
   "cell_type": "code",
   "execution_count": 20,
   "metadata": {},
   "outputs": [],
   "source": [
    "import numpy_financial as npf"
   ]
  },
  {
   "cell_type": "markdown",
   "metadata": {},
   "source": [
    "Assume that \\\\$100 is deposited in a bank today with annual interest rate of 10\\%. What is the value of the deposit one year later?\n",
    "\n",
    "Obviously, our annual interest payment will be \\\\$10, that is, 100 * 0.1 = 10, thus the total value will be \\\\$110, or 100 + 10. This can also be expressed as: 100 + 100 * 0.1(1 + 0.1). The original \\\\$100 is called the principal."
   ]
  },
  {
   "cell_type": "markdown",
   "metadata": {},
   "source": [
    "### Ex.\n",
    "\n",
    "Assume that \\\\$100 will be kept in the same bank for two years with the same annual interest rate. What is the future value at the end of year 2?\n",
    "\n",
    "Since 110 = 100 * (1 + 0.1), we can say $FV(\\text{at end of year 2}) = 100 * (1 + 0.1)^{2}$."
   ]
  },
  {
   "cell_type": "markdown",
   "metadata": {},
   "source": [
    "Generalizing our formula:\n",
    "\n",
    "(1) –––– $FV = PV(1 + R)^{n} \\ni$\n",
    "\n",
    "$FV$: future value \\\n",
    "$PV$: present value \\\n",
    "$R$: period rate \\\n",
    "$n$: number of periods \\\n",
    "\n",
    "Note that the frequencies of $R$ and $n$ should be the same."
   ]
  },
  {
   "cell_type": "code",
   "execution_count": 12,
   "metadata": {},
   "outputs": [
    {
     "data": {
      "text/plain": [
       "-121.00000000000001"
      ]
     },
     "execution_count": 12,
     "metadata": {},
     "output_type": "execute_result"
    }
   ],
   "source": [
    "# Value will be negative, as it follows Excel sign convention. Positive FVs are negative PVs, and vice versa.\n",
    "npf.fv(0.1, 2, 0, 100)"
   ]
  },
  {
   "cell_type": "markdown",
   "metadata": {},
   "source": [
    "From Equation 1, we can easily derive the second formula:\n",
    "\n",
    "(2) –––– $PV = \\dfrac{FV}{(1 + R)^{n}}$\n",
    "\n",
    "Now if we plan to have \\\\$234 at the end of year 5 in a bank account whose interest rate is 1.45\\% per year, how much do we have to deposit today? "
   ]
  },
  {
   "cell_type": "code",
   "execution_count": 16,
   "metadata": {},
   "outputs": [
    {
     "data": {
      "text/plain": [
       "(217.74871488824184, -217.74871488824184)"
      ]
     },
     "execution_count": 16,
     "metadata": {},
     "output_type": "execute_result"
    }
   ],
   "source": [
    "# First by hand, then by SciPy.\n",
    "234 / (1 + 0.0145)**5, npf.pv(0.0145, 5, 0, 234)"
   ]
  },
  {
   "cell_type": "markdown",
   "metadata": {},
   "source": [
    "In finance, it is well known that \\\\$100 received today is objectively more valuable than \\\\$100 received tomorrow, which is in turn more valuable than \\\\$100 a year from now."
   ]
  },
  {
   "cell_type": "markdown",
   "metadata": {},
   "source": [
    "### Exercises\n",
    "\n",
    "When the same constant cash flows at the same intervals forever, we call that in perpetuity. Can you derive the  present value of such a perpetuity when the period discount rate is $R$?"
   ]
  },
  {
   "cell_type": "markdown",
   "metadata": {},
   "source": [
    "Pf:\n",
    "\n",
    "$PV(\\text{perpetuity}) = \\dfrac{C}{(1 + R)} + \\dfrac{C}{(1 + R)^{2}} + \\dfrac{C}{(1 + R)^{3}} + \\ldots$\n",
    "\n",
    "$PV(\\dfrac{1}{(1 + R)}) = \\dfrac{C}{(1 + R)^{2}} + \\dfrac{C}{(1 + R)^{3}} + \\ldots$\n",
    "\n",
    "$PV(\\text{perpetuity}) - PV(\\dfrac{1}{(1 + R)}) = \\dfrac{C}{(1 + R)}$\n",
    "\n",
    "$PV(1 + R) - PV(\\text{perpetuity}) = C$\n",
    "\n",
    "(3) –––– $PV(\\text{perpetuity}) = \\dfrac{C}{R}$"
   ]
  },
  {
   "cell_type": "markdown",
   "metadata": {},
   "source": [
    "If the discount rate is $R$, then the formula to estimate the present value of a growing perpetuity has the form:\n",
    "\n",
    "(4) –––– $PV(\\text{growing perpetuity}) = \\dfrac{C}{R - g}$\n",
    "\n",
    "Note that the frequencies of $C$, $R$, and $g$ need to be consistent."
   ]
  },
  {
   "cell_type": "markdown",
   "metadata": {},
   "source": [
    "For perpetuity, if the first cash flow happens at the end of period $k$, we have the following formula:\n",
    "\n",
    "(5) –––– $PV(\\text{perpetuity, 1st cash flow at end of kth period}) = \\dfrac{1}{(1 + R)^{k - 1}}\\dfrac{C}{R - g}$\n",
    "\n",
    "Obviously, when the first cash flow happens at the end of the first period, then Equation (5) collapses into Equation (3)."
   ]
  },
  {
   "cell_type": "markdown",
   "metadata": {},
   "source": [
    "### Exercises\n",
    "\n",
    "A. John plans to donate \\\\$3,000 to his alma mater to have a welcoming party for the forthcoming MBA students at the end of the year forever. If the annual discount rate is 2.5\\% and the first party will occur at the end of the first year, how much should he donate today?\n",
    "\n",
    "B. Assuming the annual inflation is 1\\%, how much does he have to donate today?"
   ]
  },
  {
   "cell_type": "code",
   "execution_count": 18,
   "metadata": {},
   "outputs": [
    {
     "data": {
      "text/plain": [
       "120000.0"
      ]
     },
     "execution_count": 18,
     "metadata": {},
     "output_type": "execute_result"
    }
   ],
   "source": [
    "# A. Applying Equation (3):\n",
    "3000 / 0.025"
   ]
  },
  {
   "cell_type": "code",
   "execution_count": 19,
   "metadata": {},
   "outputs": [
    {
     "data": {
      "text/plain": [
       "199999.99999999997"
      ]
     },
     "execution_count": 19,
     "metadata": {},
     "output_type": "execute_result"
    }
   ],
   "source": [
    "# B. Applying Equation (4):\n",
    "3000 / (0.025 - 0.01)"
   ]
  },
  {
   "cell_type": "markdown",
   "metadata": {},
   "source": [
    "An annuity is when the same cash flows at the same intervals for $n$ periods. If the first cash flow occurs at the end of the first period, the present value of an annuity is estimated by:\n",
    "\n",
    "(6) –––– $PV(\\text{annuity}) = \\dfrac{C}{R}(1 - \\dfrac{1}{(1 + R)^{n}})$\n",
    "\n",
    "This formula can be derived from combining Equation 2 and Equation 3. Try it for yourself."
   ]
  },
  {
   "cell_type": "markdown",
   "metadata": {},
   "source": [
    "The future value of an annuity can be estimated a combination of Equation 1 and Equation 6:\n",
    "\n",
    "(7) –––– $PV(\\text{annuity}) = \\dfrac{C}{R}((1 + R)^{n} - 1)$"
   ]
  }
 ],
 "metadata": {
  "kernelspec": {
   "display_name": "Python 3",
   "language": "python",
   "name": "python3"
  },
  "language_info": {
   "codemirror_mode": {
    "name": "ipython",
    "version": 3
   },
   "file_extension": ".py",
   "mimetype": "text/x-python",
   "name": "python",
   "nbconvert_exporter": "python",
   "pygments_lexer": "ipython3",
   "version": "3.7.9"
  }
 },
 "nbformat": 4,
 "nbformat_minor": 4
}
