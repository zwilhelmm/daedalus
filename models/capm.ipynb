{
 "cells": [
  {
   "cell_type": "markdown",
   "metadata": {},
   "source": [
    "# Capital Asset Pricing Model\n",
    "\n",
    "The capital asset pricing model (CAPM) is a model used to determine a theoretically appropriate required rate of return of an asset.\n",
    "\n",
    "The model takes into account the asset's sensitivity to non-diversifiable risk, as well as the expected rate of return of the market and the expected return of a theoretical risk-free asset. CAPM assumes a particular form of utility functions, where only first and second moments matter, that is, risk measured by variance, or asset returns whose probability distributions are completed described by the first two moments like the Gaussian distribution and zero transaction costs, which is necessary for diversification to remove all idiosyncratic risk.\n",
    "\n",
    "The formula is given by:\n",
    "\n",
    "$E(R_{i} = R_{f} + \\beta_{i}(E(R_{m}) - R_{f}) \\ni$\n",
    "\n",
    "$E(R_{i})$ = capital asset expected return \\\n",
    "$R_{f}$ = risk-free rate of interest \\\n",
    "$\\beta_{i}$ = sensitivity of expected excess asset returns to the expected excess market returns. \\\n",
    "$E(R_{m})$ = expected market return\n",
    "\n",
    "Other derivations:\n",
    "\n",
    "$\\beta_{i}$ can also be expressed as $\\dfrac{Cov(R_{i}, R_{m})}{Var(R_{m})}$, which is simply $p_{i, m}\\dfrac{\\sigma_{i}}{\\sigma_{m}} \\ni$\n",
    "\n",
    "$E(R_{m}) - R_{f}$ = market premium \\\n",
    "$E(R_{i}) - R_{f}$ = risk premium \\\n",
    "$p_{i, m}$ = correlation coefficient between $i$ and $m$ \\\n",
    "$\\sigma_{i}$ = standard deviation for i \\\n",
    "$\\sigma_{m}$ = standard deviation for m\n",
    "\n",
    "Restated in terms of risk premium, we find that individual risk premium is equal to the market premium times $\\beta$:\n",
    "\n",
    "$E(R_{i}) - R_{f} = \\beta_{i}(E(R_{m}) - R_{f})$\n",
    "\n",
    "Notes:\n",
    "1. The expected market rate of return is usually estimated by measuring the arithmetic average of the historical returns on a market portfolio.\n",
    "2. The risk-free ate of return used for determining the risk premium is usually the arithmetic average of the historical risk-free rates of return and not the current risk-free rate of return."
   ]
  },
  {
   "cell_type": "markdown",
   "metadata": {},
   "source": [
    "The meaning of $\\beta$ is that when the expected market risk premium increases by 1\\%, the individual asset's expected return increases by $\\beta$\\%, and vice versa. Since $\\mu_{\\beta} = 1$, whenever an asset's $\\beta$ is greater than 1. the market risk is higher than that of the average asset."
   ]
  },
  {
   "cell_type": "code",
   "execution_count": 2,
   "metadata": {},
   "outputs": [],
   "source": [
    "import numpy as np\n",
    "import statsmodels.api as sm"
   ]
  },
  {
   "cell_type": "code",
   "execution_count": 3,
   "metadata": {},
   "outputs": [
    {
     "name": "stdout",
     "output_type": "stream",
     "text": [
      "[1.28571429 0.35714286]\n"
     ]
    },
    {
     "name": "stderr",
     "output_type": "stream",
     "text": [
      "/usr/local/anaconda3/lib/python3.7/site-packages/statsmodels/stats/stattools.py:71: ValueWarning: omni_normtest is not valid with less than 8 observations; 7 samples were given.\n",
      "  \"samples were given.\" % int(n), ValueWarning)\n"
     ]
    },
    {
     "data": {
      "text/html": [
       "<table class=\"simpletable\">\n",
       "<caption>OLS Regression Results</caption>\n",
       "<tr>\n",
       "  <th>Dep. Variable:</th>            <td>y</td>        <th>  R-squared:         </th> <td>   0.481</td>\n",
       "</tr>\n",
       "<tr>\n",
       "  <th>Model:</th>                   <td>OLS</td>       <th>  Adj. R-squared:    </th> <td>   0.377</td>\n",
       "</tr>\n",
       "<tr>\n",
       "  <th>Method:</th>             <td>Least Squares</td>  <th>  F-statistic:       </th> <td>   4.630</td>\n",
       "</tr>\n",
       "<tr>\n",
       "  <th>Date:</th>             <td>Sat, 31 Oct 2020</td> <th>  Prob (F-statistic):</th>  <td>0.0841</td> \n",
       "</tr>\n",
       "<tr>\n",
       "  <th>Time:</th>                 <td>21:22:29</td>     <th>  Log-Likelihood:    </th> <td> -7.8466</td>\n",
       "</tr>\n",
       "<tr>\n",
       "  <th>No. Observations:</th>      <td>     7</td>      <th>  AIC:               </th> <td>   19.69</td>\n",
       "</tr>\n",
       "<tr>\n",
       "  <th>Df Residuals:</th>          <td>     5</td>      <th>  BIC:               </th> <td>   19.59</td>\n",
       "</tr>\n",
       "<tr>\n",
       "  <th>Df Model:</th>              <td>     1</td>      <th>                     </th>     <td> </td>   \n",
       "</tr>\n",
       "<tr>\n",
       "  <th>Covariance Type:</th>      <td>nonrobust</td>    <th>                     </th>     <td> </td>   \n",
       "</tr>\n",
       "</table>\n",
       "<table class=\"simpletable\">\n",
       "<tr>\n",
       "    <td></td>       <th>coef</th>     <th>std err</th>      <th>t</th>      <th>P>|t|</th>  <th>[0.025</th>    <th>0.975]</th>  \n",
       "</tr>\n",
       "<tr>\n",
       "  <th>const</th> <td>    1.2857</td> <td>    0.742</td> <td>    1.732</td> <td> 0.144</td> <td>   -0.622</td> <td>    3.194</td>\n",
       "</tr>\n",
       "<tr>\n",
       "  <th>x1</th>    <td>    0.3571</td> <td>    0.166</td> <td>    2.152</td> <td> 0.084</td> <td>   -0.070</td> <td>    0.784</td>\n",
       "</tr>\n",
       "</table>\n",
       "<table class=\"simpletable\">\n",
       "<tr>\n",
       "  <th>Omnibus:</th>       <td>   nan</td> <th>  Durbin-Watson:     </th> <td>   1.976</td>\n",
       "</tr>\n",
       "<tr>\n",
       "  <th>Prob(Omnibus):</th> <td>   nan</td> <th>  Jarque-Bera (JB):  </th> <td>   0.342</td>\n",
       "</tr>\n",
       "<tr>\n",
       "  <th>Skew:</th>          <td> 0.289</td> <th>  Prob(JB):          </th> <td>   0.843</td>\n",
       "</tr>\n",
       "<tr>\n",
       "  <th>Kurtosis:</th>      <td> 2.083</td> <th>  Cond. No.          </th> <td>    10.4</td>\n",
       "</tr>\n",
       "</table><br/><br/>Warnings:<br/>[1] Standard Errors assume that the covariance matrix of the errors is correctly specified."
      ],
      "text/plain": [
       "<class 'statsmodels.iolib.summary.Summary'>\n",
       "\"\"\"\n",
       "                            OLS Regression Results                            \n",
       "==============================================================================\n",
       "Dep. Variable:                      y   R-squared:                       0.481\n",
       "Model:                            OLS   Adj. R-squared:                  0.377\n",
       "Method:                 Least Squares   F-statistic:                     4.630\n",
       "Date:                Sat, 31 Oct 2020   Prob (F-statistic):             0.0841\n",
       "Time:                        21:22:29   Log-Likelihood:                -7.8466\n",
       "No. Observations:                   7   AIC:                             19.69\n",
       "Df Residuals:                       5   BIC:                             19.59\n",
       "Df Model:                           1                                         \n",
       "Covariance Type:            nonrobust                                         \n",
       "==============================================================================\n",
       "                 coef    std err          t      P>|t|      [0.025      0.975]\n",
       "------------------------------------------------------------------------------\n",
       "const          1.2857      0.742      1.732      0.144      -0.622       3.194\n",
       "x1             0.3571      0.166      2.152      0.084      -0.070       0.784\n",
       "==============================================================================\n",
       "Omnibus:                          nan   Durbin-Watson:                   1.976\n",
       "Prob(Omnibus):                    nan   Jarque-Bera (JB):                0.342\n",
       "Skew:                           0.289   Prob(JB):                        0.843\n",
       "Kurtosis:                       2.083   Cond. No.                         10.4\n",
       "==============================================================================\n",
       "\n",
       "Warnings:\n",
       "[1] Standard Errors assume that the covariance matrix of the errors is correctly specified.\n",
       "\"\"\""
      ]
     },
     "execution_count": 3,
     "metadata": {},
     "output_type": "execute_result"
    }
   ],
   "source": [
    "y = [1, 2, 3, 4, 2, 3, 4]\n",
    "x = range(1, 8)\n",
    "\n",
    "x = sm.add_constant(x)\n",
    "\n",
    "results = sm.OLS(y, x).fit()\n",
    "print(results.params)\n",
    "results.summary()"
   ]
  },
  {
   "cell_type": "code",
   "execution_count": 3,
   "metadata": {},
   "outputs": [
    {
     "name": "stderr",
     "output_type": "stream",
     "text": [
      "/usr/local/anaconda3/lib/python3.7/site-packages/statsmodels/stats/stattools.py:71: ValueWarning: omni_normtest is not valid with less than 8 observations; 7 samples were given.\n",
      "  \"samples were given.\" % int(n), ValueWarning)\n"
     ]
    },
    {
     "data": {
      "text/html": [
       "<table class=\"simpletable\">\n",
       "<caption>OLS Regression Results</caption>\n",
       "<tr>\n",
       "  <th>Dep. Variable:</th>            <td>y</td>        <th>  R-squared:         </th> <td>   0.481</td>\n",
       "</tr>\n",
       "<tr>\n",
       "  <th>Model:</th>                   <td>OLS</td>       <th>  Adj. R-squared:    </th> <td>   0.377</td>\n",
       "</tr>\n",
       "<tr>\n",
       "  <th>Method:</th>             <td>Least Squares</td>  <th>  F-statistic:       </th> <td>   4.630</td>\n",
       "</tr>\n",
       "<tr>\n",
       "  <th>Date:</th>             <td>Fri, 30 Oct 2020</td> <th>  Prob (F-statistic):</th>  <td>0.0841</td> \n",
       "</tr>\n",
       "<tr>\n",
       "  <th>Time:</th>                 <td>21:34:06</td>     <th>  Log-Likelihood:    </th> <td> -7.8466</td>\n",
       "</tr>\n",
       "<tr>\n",
       "  <th>No. Observations:</th>      <td>     7</td>      <th>  AIC:               </th> <td>   19.69</td>\n",
       "</tr>\n",
       "<tr>\n",
       "  <th>Df Residuals:</th>          <td>     5</td>      <th>  BIC:               </th> <td>   19.59</td>\n",
       "</tr>\n",
       "<tr>\n",
       "  <th>Df Model:</th>              <td>     1</td>      <th>                     </th>     <td> </td>   \n",
       "</tr>\n",
       "<tr>\n",
       "  <th>Covariance Type:</th>      <td>nonrobust</td>    <th>                     </th>     <td> </td>   \n",
       "</tr>\n",
       "</table>\n",
       "<table class=\"simpletable\">\n",
       "<tr>\n",
       "    <td></td>       <th>coef</th>     <th>std err</th>      <th>t</th>      <th>P>|t|</th>  <th>[0.025</th>    <th>0.975]</th>  \n",
       "</tr>\n",
       "<tr>\n",
       "  <th>const</th> <td>    1.2857</td> <td>    0.742</td> <td>    1.732</td> <td> 0.144</td> <td>   -0.622</td> <td>    3.194</td>\n",
       "</tr>\n",
       "<tr>\n",
       "  <th>x1</th>    <td>    0.3571</td> <td>    0.166</td> <td>    2.152</td> <td> 0.084</td> <td>   -0.070</td> <td>    0.784</td>\n",
       "</tr>\n",
       "</table>\n",
       "<table class=\"simpletable\">\n",
       "<tr>\n",
       "  <th>Omnibus:</th>       <td>   nan</td> <th>  Durbin-Watson:     </th> <td>   1.976</td>\n",
       "</tr>\n",
       "<tr>\n",
       "  <th>Prob(Omnibus):</th> <td>   nan</td> <th>  Jarque-Bera (JB):  </th> <td>   0.342</td>\n",
       "</tr>\n",
       "<tr>\n",
       "  <th>Skew:</th>          <td> 0.289</td> <th>  Prob(JB):          </th> <td>   0.843</td>\n",
       "</tr>\n",
       "<tr>\n",
       "  <th>Kurtosis:</th>      <td> 2.083</td> <th>  Cond. No.          </th> <td>    10.4</td>\n",
       "</tr>\n",
       "</table><br/><br/>Warnings:<br/>[1] Standard Errors assume that the covariance matrix of the errors is correctly specified."
      ],
      "text/plain": [
       "<class 'statsmodels.iolib.summary.Summary'>\n",
       "\"\"\"\n",
       "                            OLS Regression Results                            \n",
       "==============================================================================\n",
       "Dep. Variable:                      y   R-squared:                       0.481\n",
       "Model:                            OLS   Adj. R-squared:                  0.377\n",
       "Method:                 Least Squares   F-statistic:                     4.630\n",
       "Date:                Fri, 30 Oct 2020   Prob (F-statistic):             0.0841\n",
       "Time:                        21:34:06   Log-Likelihood:                -7.8466\n",
       "No. Observations:                   7   AIC:                             19.69\n",
       "Df Residuals:                       5   BIC:                             19.59\n",
       "Df Model:                           1                                         \n",
       "Covariance Type:            nonrobust                                         \n",
       "==============================================================================\n",
       "                 coef    std err          t      P>|t|      [0.025      0.975]\n",
       "------------------------------------------------------------------------------\n",
       "const          1.2857      0.742      1.732      0.144      -0.622       3.194\n",
       "x1             0.3571      0.166      2.152      0.084      -0.070       0.784\n",
       "==============================================================================\n",
       "Omnibus:                          nan   Durbin-Watson:                   1.976\n",
       "Prob(Omnibus):                    nan   Jarque-Bera (JB):                0.342\n",
       "Skew:                           0.289   Prob(JB):                        0.843\n",
       "Kurtosis:                       2.083   Cond. No.                         10.4\n",
       "==============================================================================\n",
       "\n",
       "Warnings:\n",
       "[1] Standard Errors assume that the covariance matrix of the errors is correctly specified.\n",
       "\"\"\""
      ]
     },
     "execution_count": 3,
     "metadata": {},
     "output_type": "execute_result"
    }
   ],
   "source": []
  },
  {
   "cell_type": "markdown",
   "metadata": {},
   "source": [
    "Since the $\\beta$ has a $t$ of 2.152, which is greater than 2, we could claim that it is significantly "
   ]
  }
 ],
 "metadata": {
  "kernelspec": {
   "display_name": "Python 3",
   "language": "python",
   "name": "python3"
  },
  "language_info": {
   "codemirror_mode": {
    "name": "ipython",
    "version": 3
   },
   "file_extension": ".py",
   "mimetype": "text/x-python",
   "name": "python",
   "nbconvert_exporter": "python",
   "pygments_lexer": "ipython3",
   "version": "3.7.9"
  }
 },
 "nbformat": 4,
 "nbformat_minor": 4
}
