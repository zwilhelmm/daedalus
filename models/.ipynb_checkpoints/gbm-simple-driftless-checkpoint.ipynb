{
 "cells": [
  {
   "cell_type": "markdown",
   "metadata": {},
   "source": [
    "# Risk Modeling with Geometric Brownian Motion\n",
    "\n",
    "Here is a common approach to modeling risk using geometric Brownian motion accompanied by a Monte Carlo simulation. This model will not include a drift component for simplicity's sake.\n",
    "\n",
    "Some things to keep in mind:\n",
    "\n",
    "1. The formula for geometric Brownian motion is given by: $dS_{t} = \\mu S_{t}dt + \\sigma S_{t}dW_{t}$\n",
    "2. We are assuming the equity or index is modeled by a random walk, and set drift to 0.\n",
    "3. Volatility is not constant, nor is it entirely random. Therefore, we need to model it in a way that represents the transitions to and from high and low volatility. In this example, we will use Markov chains.\n",
    "\n",
    "A Markov chain is a process that depends on the last value in a time series to predict the next value. It forms a matrix of unique states by transitions from one state to another.\n",
    "\n",
    "Our process is as follows:\n",
    "\n",
    "1. Calculate volatility. We will be using the Garman-Klass estimator for simplicity.\n",
    "2. Partition the data into bins to create levels. We will be using k-means clustering for simplicity.\n",
    "3. Create a transition matrix based on past data."
   ]
  },
  {
   "cell_type": "code",
   "execution_count": 12,
   "metadata": {},
   "outputs": [],
   "source": [
    "import matplotlib.pyplot as plt\n",
    "import numpy as np\n",
    "import pandas as pd\n",
    "from scipy.stats import t, lognorm\n",
    "from sklearn.cluster import KMeans"
   ]
  },
  {
   "cell_type": "code",
   "execution_count": 13,
   "metadata": {
    "scrolled": true
   },
   "outputs": [
    {
     "data": {
      "text/html": [
       "<div>\n",
       "<style scoped>\n",
       "    .dataframe tbody tr th:only-of-type {\n",
       "        vertical-align: middle;\n",
       "    }\n",
       "\n",
       "    .dataframe tbody tr th {\n",
       "        vertical-align: top;\n",
       "    }\n",
       "\n",
       "    .dataframe thead th {\n",
       "        text-align: right;\n",
       "    }\n",
       "</style>\n",
       "<table border=\"1\" class=\"dataframe\">\n",
       "  <thead>\n",
       "    <tr style=\"text-align: right;\">\n",
       "      <th></th>\n",
       "      <th>open</th>\n",
       "      <th>high</th>\n",
       "      <th>low</th>\n",
       "      <th>close</th>\n",
       "      <th>volume</th>\n",
       "    </tr>\n",
       "    <tr>\n",
       "      <th>timestamp</th>\n",
       "      <th></th>\n",
       "      <th></th>\n",
       "      <th></th>\n",
       "      <th></th>\n",
       "      <th></th>\n",
       "    </tr>\n",
       "  </thead>\n",
       "  <tbody>\n",
       "    <tr>\n",
       "      <th>2020-05-22</th>\n",
       "      <td>315.77</td>\n",
       "      <td>319.23</td>\n",
       "      <td>315.35</td>\n",
       "      <td>318.89</td>\n",
       "      <td>20450754</td>\n",
       "    </tr>\n",
       "    <tr>\n",
       "      <th>2020-05-26</th>\n",
       "      <td>323.50</td>\n",
       "      <td>324.24</td>\n",
       "      <td>316.50</td>\n",
       "      <td>316.73</td>\n",
       "      <td>31380454</td>\n",
       "    </tr>\n",
       "    <tr>\n",
       "      <th>2020-05-27</th>\n",
       "      <td>316.14</td>\n",
       "      <td>318.71</td>\n",
       "      <td>313.09</td>\n",
       "      <td>318.11</td>\n",
       "      <td>28236274</td>\n",
       "    </tr>\n",
       "    <tr>\n",
       "      <th>2020-05-28</th>\n",
       "      <td>316.77</td>\n",
       "      <td>323.44</td>\n",
       "      <td>315.63</td>\n",
       "      <td>318.25</td>\n",
       "      <td>33449103</td>\n",
       "    </tr>\n",
       "    <tr>\n",
       "      <th>2020-05-29</th>\n",
       "      <td>319.25</td>\n",
       "      <td>321.15</td>\n",
       "      <td>316.47</td>\n",
       "      <td>317.94</td>\n",
       "      <td>38399532</td>\n",
       "    </tr>\n",
       "  </tbody>\n",
       "</table>\n",
       "</div>"
      ],
      "text/plain": [
       "              open    high     low   close    volume\n",
       "timestamp                                           \n",
       "2020-05-22  315.77  319.23  315.35  318.89  20450754\n",
       "2020-05-26  323.50  324.24  316.50  316.73  31380454\n",
       "2020-05-27  316.14  318.71  313.09  318.11  28236274\n",
       "2020-05-28  316.77  323.44  315.63  318.25  33449103\n",
       "2020-05-29  319.25  321.15  316.47  317.94  38399532"
      ]
     },
     "execution_count": 13,
     "metadata": {},
     "output_type": "execute_result"
    }
   ],
   "source": [
    "# Read the data from file.\n",
    "df = pd.read_csv('./../data/clean/aapl-daily-compact.csv', index_col='timestamp')\n",
    "df.head()"
   ]
  },
  {
   "cell_type": "markdown",
   "metadata": {},
   "source": [
    "### Estimate volatility.\n",
    "\n",
    "Determining volatility from HLOC data does not really capture the capture the frequency where the price occurs the most. To get better volatility measures, capture the daily price distribution.\n",
    "\n",
    "Garman-Klass is one of the more biased estimators, as it does not take into account jumps. Even GARCH or MCMC would be big improvements, but here we get reasonable enough results for simplicity's sake."
   ]
  },
  {
   "cell_type": "code",
   "execution_count": 14,
   "metadata": {},
   "outputs": [
    {
     "data": {
      "text/html": [
       "<div>\n",
       "<style scoped>\n",
       "    .dataframe tbody tr th:only-of-type {\n",
       "        vertical-align: middle;\n",
       "    }\n",
       "\n",
       "    .dataframe tbody tr th {\n",
       "        vertical-align: top;\n",
       "    }\n",
       "\n",
       "    .dataframe thead th {\n",
       "        text-align: right;\n",
       "    }\n",
       "</style>\n",
       "<table border=\"1\" class=\"dataframe\">\n",
       "  <thead>\n",
       "    <tr style=\"text-align: right;\">\n",
       "      <th></th>\n",
       "      <th>open</th>\n",
       "      <th>high</th>\n",
       "      <th>low</th>\n",
       "      <th>close</th>\n",
       "      <th>volume</th>\n",
       "      <th>volatility</th>\n",
       "    </tr>\n",
       "    <tr>\n",
       "      <th>timestamp</th>\n",
       "      <th></th>\n",
       "      <th></th>\n",
       "      <th></th>\n",
       "      <th></th>\n",
       "      <th></th>\n",
       "      <th></th>\n",
       "    </tr>\n",
       "  </thead>\n",
       "  <tbody>\n",
       "    <tr>\n",
       "      <th>2020-05-22</th>\n",
       "      <td>315.77</td>\n",
       "      <td>319.23</td>\n",
       "      <td>315.35</td>\n",
       "      <td>318.89</td>\n",
       "      <td>20450754</td>\n",
       "      <td>0.006118</td>\n",
       "    </tr>\n",
       "    <tr>\n",
       "      <th>2020-05-26</th>\n",
       "      <td>323.50</td>\n",
       "      <td>324.24</td>\n",
       "      <td>316.50</td>\n",
       "      <td>316.73</td>\n",
       "      <td>31380454</td>\n",
       "      <td>0.010912</td>\n",
       "    </tr>\n",
       "    <tr>\n",
       "      <th>2020-05-27</th>\n",
       "      <td>316.14</td>\n",
       "      <td>318.71</td>\n",
       "      <td>313.09</td>\n",
       "      <td>318.11</td>\n",
       "      <td>28236274</td>\n",
       "      <td>0.011973</td>\n",
       "    </tr>\n",
       "    <tr>\n",
       "      <th>2020-05-28</th>\n",
       "      <td>316.77</td>\n",
       "      <td>323.44</td>\n",
       "      <td>315.63</td>\n",
       "      <td>318.25</td>\n",
       "      <td>33449103</td>\n",
       "      <td>0.017039</td>\n",
       "    </tr>\n",
       "    <tr>\n",
       "      <th>2020-05-29</th>\n",
       "      <td>319.25</td>\n",
       "      <td>321.15</td>\n",
       "      <td>316.47</td>\n",
       "      <td>317.94</td>\n",
       "      <td>38399532</td>\n",
       "      <td>0.010061</td>\n",
       "    </tr>\n",
       "  </tbody>\n",
       "</table>\n",
       "</div>"
      ],
      "text/plain": [
       "              open    high     low   close    volume  volatility\n",
       "timestamp                                                       \n",
       "2020-05-22  315.77  319.23  315.35  318.89  20450754    0.006118\n",
       "2020-05-26  323.50  324.24  316.50  316.73  31380454    0.010912\n",
       "2020-05-27  316.14  318.71  313.09  318.11  28236274    0.011973\n",
       "2020-05-28  316.77  323.44  315.63  318.25  33449103    0.017039\n",
       "2020-05-29  319.25  321.15  316.47  317.94  38399532    0.010061"
      ]
     },
     "execution_count": 14,
     "metadata": {},
     "output_type": "execute_result"
    }
   ],
   "source": [
    "# The Garman-Klass estimator.\n",
    "v = []\n",
    "for i in df.index.values:\n",
    "    temp = df.loc[i]\n",
    "    hi,lo,o,c = temp.high,temp.low,temp.open,temp.close\n",
    "    v.append(np.sqrt(.5*np.log(hi/lo)**2-((2*np.log(2)-1)*np.log(c/o)**2)))\n",
    "\n",
    "df['volatility'] = v\n",
    "df.head()"
   ]
  },
  {
   "cell_type": "markdown",
   "metadata": {},
   "source": [
    "### Partition volatility."
   ]
  },
  {
   "cell_type": "code",
   "execution_count": 15,
   "metadata": {},
   "outputs": [
    {
     "data": {
      "text/plain": [
       "array([2, 2, 2, 2, 2, 2, 2, 2, 2, 2, 2, 0, 2, 0, 0, 0, 2, 2, 2, 0, 2, 0,\n",
       "       0, 2, 2, 2, 2, 2, 2, 2, 2, 2, 2, 2, 0, 0, 0, 2, 2, 2, 2, 2, 0, 0,\n",
       "       2, 2, 2, 2, 0, 0, 2, 2, 0, 0, 0, 2, 2, 2, 2, 2, 2, 2, 2, 0, 0, 2,\n",
       "       2, 0, 2, 0, 0, 1, 0, 1, 0, 0, 0, 0, 0, 0, 0, 0, 0, 0, 0, 0, 0, 0,\n",
       "       2, 2, 0, 2, 0, 2, 0, 2, 2, 2, 0, 0], dtype=int32)"
      ]
     },
     "execution_count": 15,
     "metadata": {},
     "output_type": "execute_result"
    }
   ],
   "source": [
    "# The k-means clustering with three volatility levels.\n",
    "km = KMeans(3)\n",
    "km.fit(df['volatility'].values.reshape(-1, 1))\n",
    "past_levels = km.labels_\n",
    "past_levels"
   ]
  },
  {
   "cell_type": "markdown",
   "metadata": {},
   "source": [
    "### The transition matrix."
   ]
  },
  {
   "cell_type": "code",
   "execution_count": 16,
   "metadata": {},
   "outputs": [
    {
     "data": {
      "text/plain": [
       "array([[0.6097561 , 0.65853659, 1.        ],\n",
       "       [1.        , 1.        , 1.        ],\n",
       "       [0.26785714, 0.26785714, 1.        ]])"
      ]
     },
     "execution_count": 16,
     "metadata": {},
     "output_type": "execute_result"
    }
   ],
   "source": [
    "# The transition matrix.\n",
    "tm = np.zeros((3, 3))\n",
    "\n",
    "for i in range(1, len(past_levels)):\n",
    "    a, b = past_levels[i-1], past_levels[i]\n",
    "    tm[a][b] += 1\n",
    "    \n",
    "# Get the matrix's probabilities.\n",
    "t_matrix = (tm/tm.sum(axis=1).reshape(-1,1)).cumsum(axis=1)\n",
    "t_matrix"
   ]
  },
  {
   "cell_type": "markdown",
   "metadata": {},
   "source": [
    "We have now loaded our data set, estimated the volatility, clustered our data set into three bins, and created our transition matrix."
   ]
  },
  {
   "cell_type": "markdown",
   "metadata": {},
   "source": [
    "### The Monte Carlo.\n",
    "\n",
    "Now to create the Monte Carlo:\n",
    "1. Create a volatility distribution from past values, binning them according to level.\n",
    "2. Update the current level with each iteration.\n",
    "3. Run the model and update level array at each time step."
   ]
  },
  {
   "cell_type": "code",
   "execution_count": 17,
   "metadata": {},
   "outputs": [],
   "source": [
    "# Generate a lot of random values to draw the distribution.\n",
    "v_dist = lognorm.rvs(*lognorm.fit(v), size=50000)\n",
    "vd_levels = km.predict(v_dist.reshape(-1, 1))\n",
    "\n",
    "v_dict = dict()\n",
    "\n",
    "for i in range(3):\n",
    "    v_dict[str(i)] = v_dist[vd_levels==i]\n",
    "    \n",
    "t_steps, n_paths = 20, 1000\n",
    "\n",
    "# Get initial volatility level based on last volatility level and transition matrix.\n",
    "levels = np.zeros(n_paths)\n",
    "r_draw = np.random.uniform(size=n_paths)\n",
    "\n",
    "for i in range(n_paths):\n",
    "    temp = r_draw[i]\n",
    "    for j in range(3):\n",
    "        if temp <= t_matrix[past_levels[-1]][j]:\n",
    "            levels[i] = j\n",
    "            break\n",
    "        else:\n",
    "            pass"
   ]
  },
  {
   "cell_type": "markdown",
   "metadata": {},
   "source": [
    "Now to actually run the Monte Carlo:"
   ]
  },
  {
   "cell_type": "code",
   "execution_count": 18,
   "metadata": {},
   "outputs": [
    {
     "data": {
      "text/plain": [
       "array([[121.1       , 121.1       , 121.1       , ..., 121.1       ,\n",
       "        121.1       , 121.1       ],\n",
       "       [119.73913571, 116.0083483 , 120.55437091, ..., 119.91145297,\n",
       "        119.97660226, 121.61800258],\n",
       "       [117.97673294, 113.008513  , 113.97164554, ..., 117.55151255,\n",
       "        109.46125468, 120.55256988],\n",
       "       ...,\n",
       "       [ 80.75274976, 115.50216331, 102.00680756, ..., 120.7310647 ,\n",
       "        108.05169982, 136.25816327],\n",
       "       [ 80.83974285, 125.59202035, 102.25874036, ..., 120.52734545,\n",
       "        109.30298868, 136.66839755],\n",
       "       [ 79.68615605, 120.820852  , 101.70234908, ..., 117.43467836,\n",
       "        108.65654238, 130.2122867 ]])"
      ]
     },
     "execution_count": 18,
     "metadata": {},
     "output_type": "execute_result"
    }
   ],
   "source": [
    "# Guess the degrees of freedom.\n",
    "degrees = t.fit(df.volatility.values)[0]\n",
    "w_t = t.rvs(degrees, loc=0.0, scale=1.0, size=(t_steps, n_paths))\n",
    "\n",
    "# Start the Monte Carlo.\n",
    "for i in range(t_steps):\n",
    "    sigma, current_levels = np.zeros(n_paths), np.zeros(n_paths)\n",
    "    for j in range(3):\n",
    "        idx = np.where(levels==j)[0]\n",
    "        sigma[idx] = np.random.choice(v_dict[str(j)], size=len(idx))\n",
    "        current_levels[idx] = j\n",
    "        \n",
    "    w_t[i] *= sigma\n",
    "    levels = current_levels\n",
    "    \n",
    "# Get the prices from predicted returns.\n",
    "returns = np.vstack((np.ones(n_paths), np.exp(w_t)))\n",
    "\n",
    "s0 = df.close.iloc[-1]\n",
    "prices = s0 * returns.cumprod(axis=0)\n",
    "prices"
   ]
  },
  {
   "cell_type": "markdown",
   "metadata": {},
   "source": [
    "We could have used a different distribution over Student T, e.g. Johnson SU or Laplace.\n",
    "\n",
    "Laplace is fairly close to Student T:\n",
    "* Laplace has the tallest, sharpest peak and wider hips.\n",
    "* Student T has a wider peak and shoulders, and has fatter tails.\n",
    "\n",
    "Student T captures the low values of volatility in the distribution better, some moderate values slightly worse, and the fat tail risk better. Student T will thusly produce more outliers.\n",
    "\n",
    "You should be choosing the appropriate distribution for your given asset. A customized distribution (i.e. hermite polynomials) may also work here, but they may not be generalizable (it is non-continuous)."
   ]
  },
  {
   "cell_type": "code",
   "execution_count": 19,
   "metadata": {
    "scrolled": true
   },
   "outputs": [
    {
     "data": {
      "image/png": "[encoded data removed]",
      "text/plain": [
       "<Figure size 432x288 with 1 Axes>"
      ]
     },
     "metadata": {
      "needs_background": "light"
     },
     "output_type": "display_data"
    }
   ],
   "source": [
    "# Plot the prices.\n",
    "plt.plot(prices, color='b', linewidth=0.1, alpha=0.8)\n",
    "plt.show()"
   ]
  },
  {
   "cell_type": "markdown",
   "metadata": {},
   "source": [
    "We can use this to plot to get probabilities of certain prices over some range of time, normally 20 or 30 days.\n",
    "\n",
    "This is more to backtest specific strikes than to value an option. You would need historical option data, particularly IV, to value contracts.\n",
    "\n",
    "Say you have five years of data. You can hold out one year to get an initial volatility distribution and then run the model every day for the next four years of data to create a list of possible prices.\n",
    "\n",
    "You can then pick a probability, which is essentially delta of an option, and get the corresponding price from eahc price list and get a labeled set of successful and unsuccessful trades. You can then use a different model to find patterns that predict those successful trades based on some set of features."
   ]
  },
  {
   "cell_type": "markdown",
   "metadata": {},
   "source": [
    "### Points of improvement.\n",
    "\n",
    "1. Use multithreading to run several Monte Carlos simultaneously.\n",
    "2. Include a drift component.\n",
    "3. Run with GARCH fitting at each step to get a rolling forecast.\n",
    "4. If you have an asset with strong periodicity, then an AR model would definitely outperform a simpler stochastic such as this."
   ]
  },
  {
   "cell_type": "code",
   "execution_count": 20,
   "metadata": {},
   "outputs": [
    {
     "data": {
      "text/plain": [
       "<function __main__.<lambda>(x)>"
      ]
     },
     "execution_count": 20,
     "metadata": {},
     "output_type": "execute_result"
    }
   ],
   "source": [
    "# Get the geometric mean.\n",
    "g_mean = lambda x: np.exp(np.log(prices[-1]).sum() / len(prices))\n",
    "g_mean"
   ]
  }
 ],
 "metadata": {
  "kernelspec": {
   "display_name": "Python 3",
   "language": "python",
   "name": "python3"
  },
  "language_info": {
   "codemirror_mode": {
    "name": "ipython",
    "version": 3
   },
   "file_extension": ".py",
   "mimetype": "text/x-python",
   "name": "python",
   "nbconvert_exporter": "python",
   "pygments_lexer": "ipython3",
   "version": "3.7.9"
  }
 },
 "nbformat": 4,
 "nbformat_minor": 4
}
