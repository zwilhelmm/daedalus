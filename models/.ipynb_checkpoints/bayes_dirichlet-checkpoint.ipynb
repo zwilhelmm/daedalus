{
 "cells": [
  {
   "cell_type": "markdown",
   "metadata": {},
   "source": [
    "# Infinite Mixture Models with Non-Parametric Bayes and the Dirichlet Process\n",
    "\n",
    "Imagine you're a budding chef. You start taking a set of foods and ask 10 friends how much of each they ate yesterday. Your goal is to find natural groups of foodies, so that you can better cater to each cluster's tastes. Some will like wings and beer, others will like soba and sushi, some will like tofu only, and so on.\n",
    "\n",
    "How can you use the data you've gathered to discover different kinds of groups?"
   ]
  },
  {
   "cell_type": "markdown",
   "metadata": {},
   "source": [
    "![Three possible clusterings of a synthetic data set.](http://i.imgur.com/sxBfR1R.png)"
   ]
  },
  {
   "cell_type": "markdown",
   "metadata": {},
   "source": [
    "One way is to use a standard clustering algorithm like k-means or Gaussian mixture modeling, but the problem with these is that both assume a fixed number of clusters, which they need to be told to find.\n",
    "\n",
    "There are a couple methods for selecting the number of clusters to learn (e.g. gap and prediction strength statistics), but the problem is a more fundamental one: most real-world data simply does not have a fixed number of clusters."
   ]
  }
 ],
 "metadata": {
  "kernelspec": {
   "display_name": "Python 3",
   "language": "python",
   "name": "python3"
  },
  "language_info": {
   "codemirror_mode": {
    "name": "ipython",
    "version": 3
   },
   "file_extension": ".py",
   "mimetype": "text/x-python",
   "name": "python",
   "nbconvert_exporter": "python",
   "pygments_lexer": "ipython3",
   "version": "3.7.9"
  }
 },
 "nbformat": 4,
 "nbformat_minor": 4
}
