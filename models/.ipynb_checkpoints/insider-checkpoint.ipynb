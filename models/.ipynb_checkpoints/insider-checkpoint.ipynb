{
 "cells": [
  {
   "cell_type": "markdown",
   "metadata": {},
   "source": [
    "# Insider Trading"
   ]
  },
  {
   "cell_type": "code",
   "execution_count": 5,
   "metadata": {},
   "outputs": [],
   "source": [
    "import datetime\n",
    "import numpy as np\n",
    "import pandas as pd\n",
    "import pandas_datareader.data as web\n",
    "import requests\n",
    "\n",
    "from bs4 import BeautifulSoup\n",
    "from IPython.display import clear_output\n",
    "from tqdm import tqdm"
   ]
  },
  {
   "cell_type": "code",
   "execution_count": 6,
   "metadata": {},
   "outputs": [],
   "source": [
    "# Look up Edgar central index key (CIK) number.\n",
    "def symbol_to_cik(symbols):\n",
    "    new_symbols = [i.lower() for i in symbols]\n",
    "    cik = [sym_cik.loc[i, 'CIK'] for i in new_symbols]\n",
    "    return cik"
   ]
  },
  {
   "cell_type": "code",
   "execution_count": 7,
   "metadata": {},
   "outputs": [],
   "source": [
    "# Look up symbol from CIK:\n",
    "def cik_to_symbol(ciks):\n",
    "    tickers = [cik_sym.loc[i, 'Ticker'] for i in ciks]\n",
    "    new_tickers = [i.upper() for i in tickers]\n",
    "    return new_tickers"
   ]
  },
  {
   "cell_type": "code",
   "execution_count": 8,
   "metadata": {},
   "outputs": [],
   "source": [
    "# Turns URL into Soup object\n",
    "def to_soup(url):\n",
    "    url_response = requests.get(url)\n",
    "    webpage = url_response.content\n",
    "    soup = BeautifulSoup(webpage, 'html.parser')\n",
    "    return soup"
   ]
  },
  {
   "cell_type": "code",
   "execution_count": null,
   "metadata": {},
   "outputs": [],
   "source": [
    "# Calculates the period return\n",
    "def return_calc(symbol,start,end):\n",
    "    data = web.DataReader(symbol, 'yahoo', start, end)\n",
    "    end_price = data['Adj Close'][-1]\n",
    "    beg_price = data['Adj Close'][0]\n",
    "    ret = round(((end_price/beg_price)-1)*100, 2)\n",
    "    return ret"
   ]
  }
 ],
 "metadata": {
  "kernelspec": {
   "display_name": "Python 3",
   "language": "python",
   "name": "python3"
  },
  "language_info": {
   "codemirror_mode": {
    "name": "ipython",
    "version": 3
   },
   "file_extension": ".py",
   "mimetype": "text/x-python",
   "name": "python",
   "nbconvert_exporter": "python",
   "pygments_lexer": "ipython3",
   "version": "3.7.9"
  }
 },
 "nbformat": 4,
 "nbformat_minor": 4
}
