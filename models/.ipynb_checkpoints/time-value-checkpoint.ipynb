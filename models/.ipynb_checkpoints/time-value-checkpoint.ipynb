{
 "cells": [
  {
   "cell_type": "markdown",
   "metadata": {},
   "source": [
    "# The Time Value of Money"
   ]
  },
  {
   "cell_type": "markdown",
   "metadata": {},
   "source": [
    "Assume that \\\\$100 is deposited in a bank today with annual interest rate of 10\\%. What is the value of the deposit one year later?\n",
    "\n",
    "Obviously, our annual interest payment will be \\\\$10, that is, 100 * 0.1 = 10, thus the total value will be \\\\$110, or 100 + 10. This can also be expressed as: 100 + 100 * 0.1(1 + 0.1). The original \\\\$100 is called the principal."
   ]
  },
  {
   "cell_type": "markdown",
   "metadata": {},
   "source": [
    "Assume that \\\\$100 will be kept in the same bank for two years with the same annual interest rate. What is the future value at the end of year 2?\n",
    "\n",
    "Since 110 = 100 * (1 + 0.1), we can say $FV(\\text{at end of year 2}) = 100 * (1 + 0.1)^{2}$."
   ]
  },
  {
   "cell_type": "markdown",
   "metadata": {},
   "source": [
    "Generalization leads our formula to become:\n",
    "\n",
    "(1) –––– $FV = PV(1 + R)^{n} \\ni$\n",
    "\n",
    "$FV$: future value \\\n",
    "$PV$: present value \\\n",
    "$R$: period rate \\\n",
    "$n$: number of periods \\\n",
    "\n",
    "Note that the frequencies of $R$ and $n$ should be the same."
   ]
  },
  {
   "cell_type": "code",
   "execution_count": 10,
   "metadata": {},
   "outputs": [],
   "source": [
    "import numpy_financial as npf"
   ]
  },
  {
   "cell_type": "code",
   "execution_count": 12,
   "metadata": {},
   "outputs": [
    {
     "data": {
      "text/plain": [
       "-121.00000000000001"
      ]
     },
     "execution_count": 12,
     "metadata": {},
     "output_type": "execute_result"
    }
   ],
   "source": [
    "# Value will be negative, as it follows Excel sign convention. Positive FVs are negative PVs, and vice versa.\n",
    "npf.fv(0.1, 2, 0, 100)"
   ]
  },
  {
   "cell_type": "markdown",
   "metadata": {},
   "source": [
    "From Equation 1, we can easily derive the second formula:\n",
    "\n",
    "(2) –––– $PV = \\dfrac{FV}{(1 + R)^{n}}$\n",
    "\n",
    "Now if we plan to have \\\\$234 at the end of year 5 in a bank account whose interest rate is 1.45\\% per year, how much do we have to deposit today? "
   ]
  },
  {
   "cell_type": "code",
   "execution_count": 16,
   "metadata": {},
   "outputs": [
    {
     "data": {
      "text/plain": [
       "(217.74871488824184, -217.74871488824184)"
      ]
     },
     "execution_count": 16,
     "metadata": {},
     "output_type": "execute_result"
    }
   ],
   "source": [
    "# First by hand, then by SciPy.\n",
    "234 / (1 + 0.0145)**5, npf.pv(0.0145, 5, 0, 234)"
   ]
  },
  {
   "cell_type": "markdown",
   "metadata": {},
   "source": []
  }
 ],
 "metadata": {
  "kernelspec": {
   "display_name": "Python 3",
   "language": "python",
   "name": "python3"
  },
  "language_info": {
   "codemirror_mode": {
    "name": "ipython",
    "version": 3
   },
   "file_extension": ".py",
   "mimetype": "text/x-python",
   "name": "python",
   "nbconvert_exporter": "python",
   "pygments_lexer": "ipython3",
   "version": "3.7.9"
  }
 },
 "nbformat": 4,
 "nbformat_minor": 4
}
