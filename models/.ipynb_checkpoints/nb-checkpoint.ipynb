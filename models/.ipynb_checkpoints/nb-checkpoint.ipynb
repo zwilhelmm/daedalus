{
 "cells": [
  {
   "cell_type": "markdown",
   "metadata": {},
   "source": [
    "# Naïve Bayes\n",
    "\n",
    "The naïve Bayes algorithm is a probabilistic classifier algorithm based on the Bayes Theorem, which was developed by Reverend Thomas Bayes in the early 18th century. The word naïve is used in the name because it assumes its features are indepedent of each other.\n",
    "\n",
    "Before we get to naïve Bayes, we will need to cover conditional probability and the Bayes Theorem itself."
   ]
  },
  {
   "cell_type": "markdown",
   "metadata": {},
   "source": [
    "### Conditional probability.\n",
    "\n",
    "The conditional probability formula is given by:\n",
    "\n",
    "1. $P(A\\mid B) = \\dfrac{P(A\\cap B)}{P(B)}$\n",
    "\n",
    "2. $P(B\\mid A) = \\dfrac{P(A\\cap B)}{P(A)}$"
   ]
  },
  {
   "cell_type": "markdown",
   "metadata": {},
   "source": [
    "### Bayes Theorem.\n",
    "\n",
    "The Bayes Theorem is a means to go from $P(A\\mid B)$ to $P(B\\mid A)$.\n",
    "\n",
    "Recall that (1) is denotes $P(evidence\\mid outcome)$, which is known from the training data, whereas (2) demotes $P(outcome\\mid evidence)$, which is to be predicted for test data.\n",
    "\n",
    "The Bayes Theorem is given by:\n",
    "\n",
    "3. $P(B\\mid A) = \\dfrac{P(A\\mid B) * P(B)}{P(A)}$"
   ]
  },
  {
   "cell_type": "markdown",
   "metadata": {},
   "source": [
    "### Naïve Bayes.\n",
    "\n",
    "Although the Bayes Theorem provides the formula for the probability of $B$ given $A$, the reality is that in real-world problems, we are often faced with having multiple $A$ variables. By assuming these variables are independent, we can derive the naïve Bayes:\n",
    "\n",
    "4. $P(B = k\\mid A) = \\dfrac{P(A\\mid B = k) * P(B = k)}{P(A)}$ where $k$ is a class of $B$. (From 3.)\n",
    "\n",
    "5. $P(B = k\\mid A_{1}\\ldots A_{n}) = \\dfrac{P(A_{1}\\mid B = k) * P(A_{2}\\mid B = k) * P(A_{n}\\mid B = k) * P(B = k)}{P(A_{1}) * P(A_{2}) * \\ldots * P(A_{n})}$\n",
    "\n",
    "The left-hand side is known as the posterior probability or the posterior.\n",
    "\n",
    "The right-hand side has three terms:\n",
    "* Probability of the likelihood of evidence\n",
    "* Overarching overall probability\n",
    "* Probability of evidence"
   ]
  },
  {
   "cell_type": "markdown",
   "metadata": {},
   "source": [
    "### An example of naïve Bayes.\n",
    "\n",
    "Let's say we have a thousand (1000) fruits, which can be labeled as either $banana$, $orange$, or $other$. Our data has the following binary variables: $long$, $sweet$, and $yellow$."
   ]
  },
  {
   "cell_type": "markdown",
   "metadata": {},
   "source": [
    "The first few rows of the data set should resemble:\n",
    "\n",
    "| Fruit | Long ($x_{1}$) | Sweet ($x_{2}$) | Yellow ($x_{3}$) |\n",
    "| - | - | - | - |\n",
    "| Orange | 0 | 1 | 0 |\n",
    "| Banana | 1 | 0 | 1 |\n",
    "| Banana | 1 | 1 | 1 |\n",
    "| Other | 1 | 1 | 0 |"
   ]
  },
  {
   "cell_type": "markdown",
   "metadata": {},
   "source": [
    "The counts table of the data set should resemble:\n",
    "\n",
    "| Fruit | Long | $\\neg$Long | Sweet | $\\neg$Sweet | Yellow | $\\neg$Yellow | Total |\n",
    "| - | - | - | - | - | - | - | - |\n",
    "| Banana | 400 | 100 | 350 | 150 | 450 | 50 | 500 |\n",
    "| Orange | 0 | 300 | 150 | 150 | 300 | 0 | 300 |\n",
    "| Other | 100 | 100 | 150 | 50 | 50 | 150 | 200 |\n",
    "| Total | 500 | 500 | 650 | 350 | 800 | 200 | 1000 |"
   ]
  },
  {
   "cell_type": "markdown",
   "metadata": {},
   "source": [
    "### Objective.\n",
    "\n",
    "The objective is to predict if a given fruit will be a $banana$, $orange$, or $other$, when only the three features are known."
   ]
  },
  {
   "cell_type": "markdown",
   "metadata": {},
   "source": [
    "### A sample problem.\n",
    "\n",
    "Let's say we are given a fruit that is $long$, $sweet$, and $yellow$. we want what kind of fruit it is."
   ]
  },
  {
   "cell_type": "markdown",
   "metadata": {},
   "source": [
    "### Computing the prior probabilities.\n",
    "\n",
    "We will need to calculate the proportion of each fruit class out of all the fruits from the total population.\n",
    "\n",
    "From the training data:\n",
    "\n",
    "* $P(Y = banana) = 500 / 1000 = 0.50$\n",
    "* $P(Y = orange) = 300 / 1000 = 0.30$\n",
    "* $P(Y = other) = 200 / 1000 = 0.20$"
   ]
  },
  {
   "cell_type": "markdown",
   "metadata": {},
   "source": [
    "### Computing the probability of evidence.\n",
    "\n",
    "From the training data:\n",
    "\n",
    "* $P(x_{1} = Long) = 500 / 1000 = 0.50$\n",
    "* $P(x_{2} = Sweet) = 650 / 1000 = 0.65$\n",
    "* $P(x_{3} = Yellow) = 800 / 1000 = 0.80$"
   ]
  },
  {
   "cell_type": "markdown",
   "metadata": {},
   "source": [
    "### Computing the probability of likelihood of evidence.\n",
    "\n",
    "This will require a conditional probability of every feature. For simplicity's sake, we will only demonstrate the calculations for only one class here.\n",
    "\n",
    "From the training data:\n",
    "\n",
    "* $P(x_{1} = Long\\mid Y = Banana) = 400 / 500 = 0.80$\n",
    "* $P(x_{2} = Sweet\\mid Y = Banana) = 350 / 500 = 0.70$\n",
    "* $P(x_{3} = Yellow\\mid Y = Banana) = 450 / 500 = 0.90$\n",
    "\n",
    "$\\therefore P(\\forall x_{n}\\mid Y = Banana) = 0.80 * 0.70 * 0.90 = 0.504$"
   ]
  },
  {
   "cell_type": "markdown",
   "metadata": {},
   "source": [
    "### Computing the probability of a class.\n",
    "\n",
    "$P(Banana\\mid Long, Sweet, Yellow) = \\dfrac{P(Long\\mid Banana) * P(Sweet\\mid Banana) * P(Yellow\\mid Banana)}{P(Long) * P(Sweet) * P(Yellow)}$\n",
    "\n",
    "Note that in computing the probabilities of all classes share the same denominator.\n",
    "\n",
    "As it turns out:\n",
    "\n",
    "$P(Banana\\mid Long, Sweet, Yellow) = 0.252 / P(evidence)$\n",
    "\n",
    "$P(Orange\\mid Long, Sweet, Yellow) = 0$ because $P(Long\\mid Orange) = 0$\n",
    "\n",
    "$P(Other\\mid Long, Sweet, Yellow) = 0.1875 / P(evidence)$\n",
    "\n",
    "$\\therefore$ the given fruit is likely a $banana$. QED."
   ]
  },
  {
   "cell_type": "markdown",
   "metadata": {},
   "source": [
    "### Laplace correction.\n",
    "\n",
    "The reason why $P(Orange\\mid Long, Sweet, Yellow)$ ended up being zero is because in our training set, there are indeed no long oranges. This may make sense with our example here, but when you have a model with innumerably many features, the entire probability stands to become zero if even a single feature's value is zero.\n",
    "\n",
    "To avoid this, we can increase the count of the variable with zero to a small value, usually 1, in the numerator, so that the overall probability does not become a flat zero.\n",
    "\n",
    "This correction is known as Laplace correction, and many naïve Bayes implementations accept this, or an equivalent correction, as a paremeter."
   ]
  },
  {
   "cell_type": "markdown",
   "metadata": {},
   "source": [
    "### Gaussian Naïve Bayes.\n",
    "\n",
    "So far, our example has successfully computed the probabilities when the features are categorical. But when the features are a continuous variable, we will have to use their probability distribution function of that distribution to calculate the probability of likelihoods.\n",
    "\n",
    "If we assume the features follow a Gaussian distribution, which is fairly common, then we need only the mean and variance of the features of solve the formula:\n",
    "\n",
    "$P(A\\mid B = c) = \\dfrac{1}{\\sqrt{2\\pi \\sigma_{c}^{2}}}e^{\\dfrac{-(x-\\mu_{c})^{2}}{2\\sigma_{c}^2}}$\n",
    "\n",
    "To make the features more Gaussian-like, you can consider applying a Box-Cox transformation on the features."
   ]
  },
  {
   "cell_type": "markdown",
   "metadata": {},
   "source": [
    "### Building a Gaussian Naïve Bayes classifier.\n",
    "\n",
    "Let's move on to some more examples. This one is about predicting a species of flower given its sepal and petal dimensions."
   ]
  },
  {
   "cell_type": "code",
   "execution_count": 2,
   "metadata": {},
   "outputs": [],
   "source": [
    "import matplotlib.pyplot as plt\n",
    "import numpy as np\n",
    "import pandas as pd\n",
    "import seaborn as sns\n",
    "from sklearn.metrics import confusion_matrix\n",
    "from sklearn.model_selection import train_test_split\n",
    "from sklearn.naive_bayes import GaussianNB"
   ]
  },
  {
   "cell_type": "code",
   "execution_count": 5,
   "metadata": {},
   "outputs": [
    {
     "data": {
      "text/html": [
       "<div>\n",
       "<style scoped>\n",
       "    .dataframe tbody tr th:only-of-type {\n",
       "        vertical-align: middle;\n",
       "    }\n",
       "\n",
       "    .dataframe tbody tr th {\n",
       "        vertical-align: top;\n",
       "    }\n",
       "\n",
       "    .dataframe thead th {\n",
       "        text-align: right;\n",
       "    }\n",
       "</style>\n",
       "<table border=\"1\" class=\"dataframe\">\n",
       "  <thead>\n",
       "    <tr style=\"text-align: right;\">\n",
       "      <th></th>\n",
       "      <th>Sepal.Length</th>\n",
       "      <th>Sepal.Width</th>\n",
       "      <th>Petal.Length</th>\n",
       "      <th>Petal.Width</th>\n",
       "      <th>Species</th>\n",
       "    </tr>\n",
       "  </thead>\n",
       "  <tbody>\n",
       "    <tr>\n",
       "      <th>0</th>\n",
       "      <td>4.7</td>\n",
       "      <td>3.2</td>\n",
       "      <td>1.3</td>\n",
       "      <td>0.2</td>\n",
       "      <td>setosa</td>\n",
       "    </tr>\n",
       "    <tr>\n",
       "      <th>1</th>\n",
       "      <td>5.0</td>\n",
       "      <td>3.6</td>\n",
       "      <td>1.4</td>\n",
       "      <td>0.2</td>\n",
       "      <td>setosa</td>\n",
       "    </tr>\n",
       "    <tr>\n",
       "      <th>2</th>\n",
       "      <td>5.4</td>\n",
       "      <td>3.9</td>\n",
       "      <td>1.7</td>\n",
       "      <td>0.4</td>\n",
       "      <td>setosa</td>\n",
       "    </tr>\n",
       "    <tr>\n",
       "      <th>3</th>\n",
       "      <td>4.6</td>\n",
       "      <td>3.4</td>\n",
       "      <td>1.4</td>\n",
       "      <td>0.3</td>\n",
       "      <td>setosa</td>\n",
       "    </tr>\n",
       "    <tr>\n",
       "      <th>4</th>\n",
       "      <td>4.9</td>\n",
       "      <td>3.1</td>\n",
       "      <td>1.5</td>\n",
       "      <td>0.1</td>\n",
       "      <td>setosa</td>\n",
       "    </tr>\n",
       "  </tbody>\n",
       "</table>\n",
       "</div>"
      ],
      "text/plain": [
       "   Sepal.Length  Sepal.Width  Petal.Length  Petal.Width Species\n",
       "0           4.7          3.2           1.3          0.2  setosa\n",
       "1           5.0          3.6           1.4          0.2  setosa\n",
       "2           5.4          3.9           1.7          0.4  setosa\n",
       "3           4.6          3.4           1.4          0.3  setosa\n",
       "4           4.9          3.1           1.5          0.1  setosa"
      ]
     },
     "execution_count": 5,
     "metadata": {},
     "output_type": "execute_result"
    }
   ],
   "source": [
    "# Read the data from file.\n",
    "training = pd.read_csv('./../data/raw/iris_train.csv')\n",
    "test = pd.read_csv('./../data/raw/iris_test.csv')"
   ]
  },
  {
   "cell_type": "code",
   "execution_count": 7,
   "metadata": {},
   "outputs": [],
   "source": [
    "# Clean our training set.\n",
    "x_train = training.drop('Species', axis=1)\n",
    "y_train = training.loc[:, 'Species']\n",
    "\n",
    "# Clean our test set.\n",
    "x_test = test.drop('Species', axis=1)\n",
    "y_test = test.loc[:, 'Species']"
   ]
  },
  {
   "cell_type": "code",
   "execution_count": 9,
   "metadata": {},
   "outputs": [
    {
     "data": {
      "text/plain": [
       "GaussianNB()"
      ]
     },
     "execution_count": 9,
     "metadata": {},
     "output_type": "execute_result"
    }
   ],
   "source": [
    "# Initialize the Gaussian Naïve Bayes classifier and train the model.\n",
    "model = GaussianNB()\n",
    "model.fit(x_train, y_train)"
   ]
  },
  {
   "cell_type": "code",
   "execution_count": 11,
   "metadata": {},
   "outputs": [
    {
     "data": {
      "text/plain": [
       "array(['setosa', 'setosa', 'setosa', 'setosa', 'setosa'], dtype='<U10')"
      ]
     },
     "execution_count": 11,
     "metadata": {},
     "output_type": "execute_result"
    }
   ],
   "source": [
    "# Prediction output.\n",
    "pred = model.predict(x_test)\n",
    "pred[:5]"
   ]
  },
  {
   "cell_type": "code",
   "execution_count": 12,
   "metadata": {},
   "outputs": [
    {
     "data": {
      "text/plain": [
       "Text(91.68, 0.5, 'Predicted')"
      ]
     },
     "execution_count": 12,
     "metadata": {},
     "output_type": "execute_result"
    },
    {
     "data": {
      "image/png": "[encoded data removed]",
      "text/plain": [
       "<Figure size 432x288 with 1 Axes>"
      ]
     },
     "metadata": {
      "needs_background": "light"
     },
     "output_type": "display_data"
    }
   ],
   "source": [
    "# Plot the confusion matrix.\n",
    "c_matrix = confusion_matrix(pred, y_test)\n",
    "names = np.unique(pred)\n",
    "\n",
    "sns.heatmap(c_matrix, \n",
    "            square=True, \n",
    "            annot=True, fmt='d', \n",
    "            cbar=False, \n",
    "            xticklabels=names, \n",
    "            yticklabels=names)\n",
    "\n",
    "plt.xlabel('Truth')\n",
    "plt.ylabel('Predicted')"
   ]
  },
  {
   "cell_type": "markdown",
   "metadata": {},
   "source": [
    "Let's try another example, this time with human activity recognition, which is commonly used in health-based wearables and other life-logging systems."
   ]
  },
  {
   "cell_type": "code",
   "execution_count": 24,
   "metadata": {},
   "outputs": [
    {
     "data": {
      "text/plain": [
       "array(['A', 'B', 'C', 'D', 'E'], dtype=object)"
      ]
     },
     "execution_count": 24,
     "metadata": {},
     "output_type": "execute_result"
    }
   ],
   "source": [
    "# Read the data from file.\n",
    "training = pd.read_csv('./../data/raw/har_train.csv')\n",
    "test = pd.read_csv('./../data/raw/har_test.csv')"
   ]
  },
  {
   "cell_type": "code",
   "execution_count": 25,
   "metadata": {},
   "outputs": [],
   "source": [
    "# Clean our training set.\n",
    "x_train = training.drop('classe', axis=1)\n",
    "y_train = training.loc[:, 'classe']\n",
    "\n",
    "# Clean our test set.\n",
    "x_test = test.drop('classe', axis=1)\n",
    "y_test = test.loc[:, 'classe']"
   ]
  },
  {
   "cell_type": "code",
   "execution_count": 26,
   "metadata": {},
   "outputs": [
    {
     "data": {
      "text/plain": [
       "GaussianNB()"
      ]
     },
     "execution_count": 26,
     "metadata": {},
     "output_type": "execute_result"
    }
   ],
   "source": [
    "# Initialize the Gaussian Naïve Bayes classifier and train the model.\n",
    "model = GaussianNB()\n",
    "model.fit(x_train, y_train)"
   ]
  },
  {
   "cell_type": "code",
   "execution_count": 27,
   "metadata": {},
   "outputs": [
    {
     "data": {
      "text/plain": [
       "array(['A', 'A', 'A', 'A', 'A'], dtype='<U1')"
      ]
     },
     "execution_count": 27,
     "metadata": {},
     "output_type": "execute_result"
    }
   ],
   "source": [
    "# Prediction output.\n",
    "pred = model.predict(x_test)\n",
    "pred[:5]"
   ]
  },
  {
   "cell_type": "code",
   "execution_count": 28,
   "metadata": {},
   "outputs": [
    {
     "data": {
      "text/plain": [
       "Text(91.68, 0.5, 'Predicted')"
      ]
     },
     "execution_count": 28,
     "metadata": {},
     "output_type": "execute_result"
    },
    {
     "data": {
      "image/png": "[encoded data removed]",
      "text/plain": [
       "<Figure size 432x288 with 1 Axes>"
      ]
     },
     "metadata": {
      "needs_background": "light"
     },
     "output_type": "display_data"
    }
   ],
   "source": [
    "# Plot the confusion matrix.\n",
    "c_matrix = confusion_matrix(pred, y_test)\n",
    "names = np.unique(pred)\n",
    "\n",
    "sns.heatmap(c_matrix, \n",
    "            square=True, \n",
    "            annot=True, fmt='d', \n",
    "            cbar=False, \n",
    "            xticklabels=names, \n",
    "            yticklabels=names)\n",
    "\n",
    "plt.xlabel('Truth')\n",
    "plt.ylabel('Predicted')"
   ]
  },
  {
   "cell_type": "markdown",
   "metadata": {},
   "source": [
    "### Improving the model.\n",
    "\n",
    "1. We can apply the Box-Cox or Yeo-Johnson transformations to make the features resemble a Gaussian distribution.\n",
    "2. Apply Laplace correction to handle features with zero values.\n",
    "3. Apply feature engineering.\n",
    "4. Provide more realistic prior probabilities based on prior business knowledge, instead of initializing from zero.\n",
    "5. Apply ensemble methods like bagging and boosting to help reduce the variance."
   ]
  }
 ],
 "metadata": {
  "kernelspec": {
   "display_name": "Python 3",
   "language": "python",
   "name": "python3"
  },
  "language_info": {
   "codemirror_mode": {
    "name": "ipython",
    "version": 3
   },
   "file_extension": ".py",
   "mimetype": "text/x-python",
   "name": "python",
   "nbconvert_exporter": "python",
   "pygments_lexer": "ipython3",
   "version": "3.7.9"
  }
 },
 "nbformat": 4,
 "nbformat_minor": 4
}
